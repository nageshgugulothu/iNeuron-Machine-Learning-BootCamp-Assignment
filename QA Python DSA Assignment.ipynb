{
 "cells": [
  {
   "cell_type": "markdown",
   "id": "537b96aa-e2b0-4917-81f5-5bc918126052",
   "metadata": {},
   "source": [
    "# 13/12/2022 Assignment\n",
    "## QA 1. WAP to accept two numbers from the user and display their sum"
   ]
  },
  {
   "cell_type": "code",
   "execution_count": 6,
   "id": "a9fceb51-4c16-44f8-a1c9-8747ffb7caa1",
   "metadata": {},
   "outputs": [
    {
     "name": "stdin",
     "output_type": "stream",
     "text": [
      "Enter first number:  24\n",
      "Enter second number:  37\n"
     ]
    },
    {
     "name": "stdout",
     "output_type": "stream",
     "text": [
      "The sum of two numbers is 61\n"
     ]
    }
   ],
   "source": [
    "# give the input numbers\n",
    "\n",
    "a = input(\"Enter first number: \")\n",
    "b = input(\"Enter second number: \")\n",
    "\n",
    "# add two numbers\n",
    "c = int(a)+int(b)\n",
    "\n",
    "# diplay the sum\n",
    "# print(\"The value of a is {} & value of b is {} & the sum of is {}\".format(a,b,c))\n",
    "print(\"The sum of two numbers is {}\".format(c)) # print in format spacifier"
   ]
  },
  {
   "cell_type": "markdown",
   "id": "4abb9b66-f597-4c79-867f-73aefb7df461",
   "metadata": {},
   "source": [
    "## QA 2. WAP to accept radius of a Circle from the user and calculate area and circumference"
   ]
  },
  {
   "cell_type": "code",
   "execution_count": 8,
   "id": "28cc8815-4a8e-421b-8c89-53edb649835a",
   "metadata": {},
   "outputs": [],
   "source": [
    "# Diameter of a Circle = 2r = 2 * radius\n",
    "# Area of a circle is: A = πr² =  π * radius * radius\n",
    "# Circumference of a Circle = 2πr = 2 * π * radius\n",
    "\n",
    "# to find Diameter, Circumference, and Area Of a Circle\n"
   ]
  },
  {
   "cell_type": "code",
   "execution_count": 9,
   "id": "d830c7b0-8bce-4549-99e9-6d62cbeb265b",
   "metadata": {},
   "outputs": [],
   "source": [
    "# import math function to calculate the pi value\n",
    "import math"
   ]
  },
  {
   "cell_type": "code",
   "execution_count": 10,
   "id": "9813e5f4-cb19-4603-aa70-150842df4274",
   "metadata": {},
   "outputs": [],
   "source": [
    "pi = math.pi"
   ]
  },
  {
   "cell_type": "code",
   "execution_count": 11,
   "id": "7c01cb66-fc3a-425c-aa2a-1720e293909c",
   "metadata": {},
   "outputs": [
    {
     "data": {
      "text/plain": [
       "3.141592653589793"
      ]
     },
     "execution_count": 11,
     "metadata": {},
     "output_type": "execute_result"
    }
   ],
   "source": [
    "pi"
   ]
  },
  {
   "cell_type": "code",
   "execution_count": 13,
   "id": "a44c0382-bdc6-4da8-80cd-3e44a1134123",
   "metadata": {},
   "outputs": [
    {
     "name": "stdin",
     "output_type": "stream",
     "text": [
      "Enter the radius of Circle:  8\n"
     ]
    },
    {
     "name": "stdout",
     "output_type": "stream",
     "text": [
      "Enter the Diameter of the Circle = 16.00\n",
      "Enter the Circumference of the Circle = 50.27\n",
      "Enter the Area of the Circle = 201.06\n"
     ]
    }
   ],
   "source": [
    "# using input function enter the radius of circle\n",
    "radius = float(input(\"Enter the radius of Circle: \"))\n",
    "\n",
    "# parameters of circle\n",
    "dia = 2*radius\n",
    "cir = 2*pi*radius\n",
    "area = pi*radius*radius\n",
    "\n",
    "\n",
    "# display the required function in float of two decimal point\n",
    "print(\"Enter the Diameter of the Circle = %.2f\"%dia)\n",
    "print(\"Enter the Circumference of the Circle = %.2f\"%cir)\n",
    "print(\"Enter the Area of the Circle = %.2f\"%area)\n"
   ]
  },
  {
   "cell_type": "markdown",
   "id": "f606f138-902a-49c4-804f-e5b4577be7ca",
   "metadata": {},
   "source": [
    "## QA3. WAP to accept roll number , grade and percentage as input from the user and display it back"
   ]
  },
  {
   "cell_type": "code",
   "execution_count": 21,
   "id": "5e195f61-892b-4e1f-af58-98881f58b28c",
   "metadata": {},
   "outputs": [
    {
     "name": "stdin",
     "output_type": "stream",
     "text": [
      "Enter roll number:  68894654\n",
      "Enter grade and percentage:  73.19\n"
     ]
    },
    {
     "name": "stdout",
     "output_type": "stream",
     "text": [
      "Roll Number is 68894654\n",
      "grade and percentage is 73.19\n"
     ]
    }
   ],
   "source": [
    "x = int(input(\"Enter roll number: \"))\n",
    "y = float(input(\"Enter grade and percentage: \"))\n",
    "\n",
    "# display the roll number & grade and percentage\n",
    "print(\"Roll Number is\", x)\n",
    "print(\"grade and percentage is\", y)"
   ]
  },
  {
   "cell_type": "markdown",
   "id": "e4e29314-37bc-4687-a597-c1b5b9bfb6c7",
   "metadata": {},
   "source": [
    "## QA 4. Write a program that asks the user to enter his/her name and age. Print out a message , displaying the user’s name along with the year in which they will turn 100 years old."
   ]
  },
  {
   "cell_type": "code",
   "execution_count": 26,
   "id": "92a0f1ff-7783-4353-bd35-0f2dddbe1177",
   "metadata": {},
   "outputs": [
    {
     "name": "stdin",
     "output_type": "stream",
     "text": [
      "Enter your Name:  Nageshwarrao\n",
      "Enteer your age:  31\n"
     ]
    },
    {
     "name": "stdout",
     "output_type": "stream",
     "text": [
      "Hi Nageshwarrao you will turn 100 years old in the year 2091\n"
     ]
    }
   ],
   "source": [
    "# Input users \n",
    "name = input(\"Enter your Name: \")\n",
    "current_age = int(input(\"Enteer your age: \"))\n",
    "\n",
    "#calculating the 100th year, considering 2022 as the current year\n",
    "hundth_year = 2022+(100-current_age)\n",
    "print(\"Hi\", name,\"you will turn 100 years old in the year\", hundth_year)"
   ]
  },
  {
   "cell_type": "markdown",
   "id": "800c499e-b0ad-4f47-852e-053a3609fde1",
   "metadata": {},
   "source": [
    "## QA 5. Write a program that asks the user to input 2 integers and adds them . Accept both the numbers in a single line only"
   ]
  },
  {
   "cell_type": "code",
   "execution_count": 30,
   "id": "be9e7b85-fb7b-4b6b-a544-ab8c0addbe75",
   "metadata": {},
   "outputs": [
    {
     "name": "stdin",
     "output_type": "stream",
     "text": [
      " 2 8\n"
     ]
    },
    {
     "name": "stdout",
     "output_type": "stream",
     "text": [
      "10\n"
     ]
    }
   ],
   "source": [
    "a, b = [int(i) for i in input().split()]\n",
    "print(a+b)"
   ]
  },
  {
   "cell_type": "code",
   "execution_count": 32,
   "id": "369bf580-67d7-4928-badc-c41653caf277",
   "metadata": {},
   "outputs": [
    {
     "name": "stdin",
     "output_type": "stream",
     "text": [
      " 1\n",
      " 2\n"
     ]
    },
    {
     "name": "stdout",
     "output_type": "stream",
     "text": [
      "x:  1 \ty: 2\n"
     ]
    }
   ],
   "source": [
    "x, y = int(input()), int(input())\n",
    "print(\"x: \",x, \"\\ty:\",y)\n"
   ]
  },
  {
   "cell_type": "markdown",
   "id": "8ebc1cfb-0600-44db-9697-dc7c5fdcacf6",
   "metadata": {},
   "source": [
    "## QA 6. Write a Python program which accepts the user's first and last name and print them in reverse order with a space between them."
   ]
  },
  {
   "cell_type": "code",
   "execution_count": 46,
   "id": "3224ddbc-d91e-4ba4-bc23-57a18d866a52",
   "metadata": {},
   "outputs": [
    {
     "name": "stdin",
     "output_type": "stream",
     "text": [
      "Enter user first name:  Nagesh\n",
      "Enter user second name:  Naik\n"
     ]
    },
    {
     "name": "stdout",
     "output_type": "stream",
     "text": [
      "Reverse of firstname & lastname is: Naik Nagesh\n"
     ]
    }
   ],
   "source": [
    "firstname = input(\"Enter user first name: \")\n",
    "lastname = input(\"Enter user second name: \")\n",
    "\n",
    "print (\"Reverse of firstname & lastname is: \" + lastname + \" \" + firstname)\n"
   ]
  },
  {
   "cell_type": "markdown",
   "id": "25e25023-2018-4a3d-b26d-61f6919fea3e",
   "metadata": {},
   "source": [
    "# 15/12/2022 Assignment\n",
    "## QA 1. WAP to accept an integer from the user and check whether it is an even or odd "
   ]
  },
  {
   "cell_type": "code",
   "execution_count": 2,
   "id": "72aaf08a-1037-485a-918a-d46ab4714877",
   "metadata": {},
   "outputs": [
    {
     "name": "stdin",
     "output_type": "stream",
     "text": [
      "Enter the number where it is even or odd number:  22541\n"
     ]
    },
    {
     "name": "stdout",
     "output_type": "stream",
     "text": [
      "The number is odd\n"
     ]
    }
   ],
   "source": [
    "number = int(input(\"Enter the number where it is even or odd number: \"))\n",
    "if(number % 2)==0:\n",
    "    print(\"The number is even\")\n",
    "    \n",
    "else:\n",
    "    print(\"The number is odd\")"
   ]
  },
  {
   "cell_type": "markdown",
   "id": "6efc4948-0432-4dcf-935f-2d0ed8c9b559",
   "metadata": {},
   "source": [
    "## QA 2. WAP to accept a character from the user and check whether it is a capital letter or small letter. Assume user will input only alphabets"
   ]
  },
  {
   "cell_type": "code",
   "execution_count": 5,
   "id": "0688d012-c994-4644-a2f6-7674f2905907",
   "metadata": {},
   "outputs": [
    {
     "name": "stdin",
     "output_type": "stream",
     "text": [
      "Enter any character:  H\n"
     ]
    },
    {
     "name": "stdout",
     "output_type": "stream",
     "text": [
      "The given character H is an upper Alphabet\n"
     ]
    }
   ],
   "source": [
    "ch = input(\"Enter any character: \")\n",
    "if(ch >= \"A\" and ch <= \"Z\"):\n",
    "    print(\"The given character\",ch,\"is an upper Alphabet\")\n",
    "elif(ch >= \"a\" and ch <=\"z\"):\n",
    "    print(\"The given character\",ch,\"is an lower Alphabet\")\n",
    "else:\n",
    "    print(\"The given character\",ch,\"is not a upper or lower Alphabet\")"
   ]
  },
  {
   "cell_type": "markdown",
   "id": "146b7acc-b3d8-4e77-b941-c1d7de7e19df",
   "metadata": {},
   "source": [
    "## QA 3. WAP to accept a character from the user and check whether it is a capital letter or small letter or a digit or some special symbol"
   ]
  },
  {
   "cell_type": "code",
   "execution_count": 9,
   "id": "a2cfef37-332e-4bc2-858e-f3dbb79db74d",
   "metadata": {},
   "outputs": [
    {
     "name": "stdin",
     "output_type": "stream",
     "text": [
      "Enter any character:  $%\n"
     ]
    },
    {
     "name": "stdout",
     "output_type": "stream",
     "text": [
      "given character is special symbol:  $%\n"
     ]
    }
   ],
   "source": [
    "ch = input(\"Enter any character: \")\n",
    "if(ch.isupper()):\n",
    "    print(\"given character is upper alphabet: \", ch)\n",
    "elif(ch.islower()):\n",
    "    print(\"given character is lower alphabet: \", ch)\n",
    "elif(ch.isdigit()):\n",
    "    print(\"given character is digit: \", ch)\n",
    "else:\n",
    "    print(\"given character is special symbol: \", ch)\n",
    "    "
   ]
  },
  {
   "cell_type": "markdown",
   "id": "cf6cced4-e0b5-4859-966e-82b37f9a857d",
   "metadata": {},
   "source": [
    "## QA 4. WAP to accept 3 integers from the user and without using any logical operator and cascading of relational operators , find out the greatest number amongst them"
   ]
  },
  {
   "cell_type": "code",
   "execution_count": 1,
   "id": "99252234-0695-4527-8c68-f5b987711562",
   "metadata": {},
   "outputs": [
    {
     "name": "stdin",
     "output_type": "stream",
     "text": [
      "Enter first number:  122415\n",
      "Enter second number:  4156151\n",
      "Enter third number:  414577\n"
     ]
    },
    {
     "name": "stdout",
     "output_type": "stream",
     "text": [
      "The largest number is: 4156151\n"
     ]
    }
   ],
   "source": [
    "a = int(input(\"Enter first number: \"))\n",
    "b = int(input(\"Enter second number: \"))\n",
    "c = int(input(\"Enter third number: \"))\n",
    "\n",
    "if a>=b and a>=c:\n",
    "    largest=a\n",
    "    \n",
    "elif b>=a and b>=c:\n",
    "    largest=b\n",
    "    \n",
    "else:\n",
    "    largest=c\n",
    "    \n",
    "print(\"The largest number is:\", largest)    "
   ]
  },
  {
   "cell_type": "markdown",
   "id": "168f1bf4-2b7c-44be-a699-cb769a12be5d",
   "metadata": {},
   "source": [
    "## QA 5. WAP to accept a year from the user and check whether it is a leap year or not.An year is a leap year if: It is exactly divisible by 4 and at the same time not divisible by 100 OR It is divisible by 400"
   ]
  },
  {
   "cell_type": "code",
   "execution_count": 11,
   "id": "7a6d5de7-4838-4fb4-9b69-ee2d8dffd4dd",
   "metadata": {},
   "outputs": [
    {
     "name": "stdin",
     "output_type": "stream",
     "text": [
      "Enter a year:  2019\n"
     ]
    },
    {
     "name": "stdout",
     "output_type": "stream",
     "text": [
      "2019 is not a leap year\n"
     ]
    }
   ],
   "source": [
    "# check if year is a leap year or no\n",
    "\n",
    "year = int(input(\"Enter a year: \"))\n",
    "\n",
    "# divided by 100 means century year (ending with 00) or \n",
    "# not divided by 100 means not a century year\n",
    "# century year divided by 400 is leap year\n",
    "if (year%4 == 0 and year%100 != 0) or (year%400 == 0):\n",
    "    print(\"{} is a leap year\".format(year))\n",
    "\n",
    "# if not divided by both 400 (century year) and 4 (not century year)\n",
    "# year is not leap year\n",
    "else:\n",
    "    print(\"{} is not a leap year\".format(year))"
   ]
  },
  {
   "cell_type": "markdown",
   "id": "fcf63b64-27ed-440f-a300-6ecbce6c451c",
   "metadata": {},
   "source": [
    "## QA 6.You have to develop a number guessing game. Following are the steps needed:\n",
    "####\t• At first , the program will generate a random integer secretly.\n",
    "####\t• Now it will ask the user to guess that number .\n",
    "####\t• If the user guessed it correctly then the program prints “Congratulations! You guessed it right” .\n",
    "####\t• But if the number guessed by the user is larger than the secret number then program should print “Number too large” and , if the number guessed by the user is smaller than the secret number then the program should print “Number too small” \n",
    "####\t• This should continue until the user guesses the number correctly or quits .\n",
    "####\t• If the user wants to quit in between he will have to type 0 or negative number\n"
   ]
  },
  {
   "cell_type": "code",
   "execution_count": null,
   "id": "2d5ae2ae-d578-4a24-9947-6f0399c1df73",
   "metadata": {},
   "outputs": [
    {
     "name": "stdin",
     "output_type": "stream",
     "text": [
      "Enter any number:  25\n"
     ]
    },
    {
     "name": "stdout",
     "output_type": "stream",
     "text": [
      "The Number too large\n"
     ]
    },
    {
     "name": "stdin",
     "output_type": "stream",
     "text": [
      "Enter the number again:  45\n"
     ]
    },
    {
     "name": "stdout",
     "output_type": "stream",
     "text": [
      "The Number too large\n"
     ]
    },
    {
     "name": "stdin",
     "output_type": "stream",
     "text": [
      "Enter the number again:  1\n"
     ]
    },
    {
     "name": "stdout",
     "output_type": "stream",
     "text": [
      "The Number too small\n"
     ]
    },
    {
     "name": "stdin",
     "output_type": "stream",
     "text": [
      "Enter the number again:  0\n"
     ]
    },
    {
     "name": "stdout",
     "output_type": "stream",
     "text": [
      "The Number too small\n"
     ]
    },
    {
     "name": "stdin",
     "output_type": "stream",
     "text": [
      "Enter the number again:  577\n"
     ]
    },
    {
     "name": "stdout",
     "output_type": "stream",
     "text": [
      "The Number too large\n"
     ]
    }
   ],
   "source": [
    "import random\n",
    "n = random.randrange(1,10)\n",
    "num_guess = int(input(\"Enter any number: \"))\n",
    "\n",
    "while n!= num_guess:\n",
    "    if num_guess > n:\n",
    "        print(\"The Number too large\")\n",
    "        num_guess = int(input(\"Enter the number again: \"))\n",
    "        \n",
    "    elif num_guess < n:\n",
    "        print(\"The Number too small\")\n",
    "        num_guess = int(input(\"Enter the number again: \"))\n",
    "        \n",
    "    elif num_guess == 0:\n",
    "        num_guess = int(input(\"Enter the number 0 to be quit: \"))\n",
    "        print(\"it will be quit\")\n",
    "        break\n",
    "    else:\n",
    "        print(\"Congratulations! You guessed it right\")"
   ]
  },
  {
   "cell_type": "markdown",
   "id": "823e2c32-dfba-4a21-852e-b2fd46af3a0d",
   "metadata": {},
   "source": [
    "## QA 7. Write a program to accept a string from the user and display it vertically but don’t display the vowels in it."
   ]
  },
  {
   "cell_type": "code",
   "execution_count": 4,
   "id": "fdc0228a-2929-44ca-9377-2ba60ec3f21e",
   "metadata": {},
   "outputs": [
    {
     "name": "stdin",
     "output_type": "stream",
     "text": [
      "Write something: Nageshwarrao Naik\n"
     ]
    },
    {
     "name": "stdout",
     "output_type": "stream",
     "text": [
      "N\n",
      "g\n",
      "s\n",
      "h\n",
      "w\n",
      "r\n",
      "r\n",
      " \n",
      "N\n",
      "k\n"
     ]
    }
   ],
   "source": [
    "name = input(\"Write something:\")\n",
    "\n",
    "i = 0\n",
    "while i<len(name):\n",
    "    if name[i] not in 'aeiouAEIOU':\n",
    "        print(name[i])\n",
    "    i=i+1"
   ]
  },
  {
   "cell_type": "markdown",
   "id": "3414babf-762a-449a-bab5-c15a009ad8e5",
   "metadata": {},
   "source": [
    "## QA 8. Write a program to continuously accept integers from the user until the user types 0 and as soon as 0 is entered display sum of all the nos entered before 0"
   ]
  },
  {
   "cell_type": "code",
   "execution_count": 15,
   "id": "c8e182cd-4025-487a-a0be-407a376dc445",
   "metadata": {},
   "outputs": [
    {
     "name": "stdin",
     "output_type": "stream",
     "text": [
      "Enter a number:  2\n",
      "Enter a number:  46\n",
      "Enter a number:  567\n",
      "Enter a number:  415\n",
      "Enter a number:  0\n"
     ]
    },
    {
     "name": "stdout",
     "output_type": "stream",
     "text": [
      "User pressed Enter\n",
      "[2, 46, 567, 415]\n"
     ]
    }
   ],
   "source": [
    "my_list = []\n",
    "\n",
    "while True:\n",
    "    integer_num = input('Enter a number: ')\n",
    "\n",
    "    # 👇️ Exit when user presses Enter with 0 input\n",
    "    if integer_num == \"0\":\n",
    "        print('User pressed Enter')\n",
    "        break\n",
    "\n",
    "    try:\n",
    "        my_list.append(int(integer_num))\n",
    "    except ValueError:\n",
    "        print('Invalid number.')\n",
    "        continue\n",
    "        \n",
    "print(my_list)"
   ]
  },
  {
   "cell_type": "markdown",
   "id": "cba6226b-af10-46b1-9285-2f6946a4cf54",
   "metadata": {},
   "source": [
    "## QA 9. Write a program using a for loop to accept a string from the user and display it vertically but don’t display the vowels in it."
   ]
  },
  {
   "cell_type": "code",
   "execution_count": 3,
   "id": "7f051019-b0f8-4c09-afe5-43a89489f914",
   "metadata": {},
   "outputs": [
    {
     "name": "stdin",
     "output_type": "stream",
     "text": [
      "Enter a characters: Nageshwarrao Naik\n"
     ]
    },
    {
     "name": "stdout",
     "output_type": "stream",
     "text": [
      "N\n",
      "g\n",
      "s\n",
      "h\n",
      "w\n",
      "r\n",
      "r\n",
      " \n",
      "N\n",
      "k\n"
     ]
    }
   ],
   "source": [
    "t = input('Enter a characters:')\n",
    "for char in t:\n",
    "    if char.lower() not in 'aeiouAEIOU':\n",
    "        print(char)"
   ]
  },
  {
   "cell_type": "markdown",
   "id": "201057ed-c542-4e31-b04a-05f6af8bf589",
   "metadata": {},
   "source": [
    "## QA 10. Write a program to accept an integer from the user and display the sum of all the numbers from 1 to that number."
   ]
  },
  {
   "cell_type": "code",
   "execution_count": 36,
   "id": "a1fd60c5-83a5-4679-8f83-ab4c02660d4b",
   "metadata": {},
   "outputs": [
    {
     "name": "stdin",
     "output_type": "stream",
     "text": [
      "Enter number 6\n"
     ]
    },
    {
     "name": "stdout",
     "output_type": "stream",
     "text": [
      "Sum of first  6 numbers is:  21\n"
     ]
    }
   ],
   "source": [
    "n = int(input(\"Enter number\"))\n",
    "sum = 0\n",
    "# loop from 1 to n\n",
    "for num in range(1, n + 1, 1):\n",
    "    sum = sum + num\n",
    "print(\"Sum of first \", n, \"numbers is: \", sum)"
   ]
  },
  {
   "cell_type": "markdown",
   "id": "5af2b6f8-7259-459f-b244-8cf621e40570",
   "metadata": {},
   "source": [
    "## QA 11. Write a program to accept an integer from the user and calculate its factorial"
   ]
  },
  {
   "cell_type": "code",
   "execution_count": 41,
   "id": "b581b124-7b88-49b6-8b9c-69a3818bfcf7",
   "metadata": {},
   "outputs": [
    {
     "name": "stdin",
     "output_type": "stream",
     "text": [
      "Enter a number:  16\n"
     ]
    },
    {
     "name": "stdout",
     "output_type": "stream",
     "text": [
      "The factorial of 16 is 20922789888000\n"
     ]
    }
   ],
   "source": [
    "# find the factorial of a number provided by the user\n",
    "\n",
    "def factorial(x):\n",
    "    \n",
    "    if x == 1:\n",
    "        return 1\n",
    "    else:\n",
    "        # recursive call to the function\n",
    "        return (x * factorial(x-1))\n",
    "\n",
    "# to take input from the user\n",
    "num = int(input(\"Enter a number: \"))\n",
    "\n",
    "# call the factorial function\n",
    "result = factorial(num)\n",
    "print(\"The factorial of\", num, \"is\", result)"
   ]
  },
  {
   "cell_type": "markdown",
   "id": "be0ffa27-6bdc-40ff-a0aa-9cb88e3874d6",
   "metadata": {},
   "source": [
    "## QA 12. to print pyramid patterns of stars."
   ]
  },
  {
   "cell_type": "code",
   "execution_count": 54,
   "id": "19449105-b2ec-4440-b4db-588b3c35ab3f",
   "metadata": {},
   "outputs": [
    {
     "name": "stdout",
     "output_type": "stream",
     "text": [
      "* \n",
      "* * \n",
      "* * * \n",
      "* * * * \n",
      "* * * * * \n"
     ]
    }
   ],
   "source": [
    "for i in range(0, 5):\n",
    "    for j in range(0, i+1):\n",
    "        print(\"* \", end=\"\")\n",
    "    print()    "
   ]
  },
  {
   "cell_type": "markdown",
   "id": "1dcbea50-e973-478a-b9a0-31063d0434bb",
   "metadata": {},
   "source": [
    "## QA 13. Printing Downward half - Pyramid"
   ]
  },
  {
   "cell_type": "code",
   "execution_count": 55,
   "id": "e78308e8-7514-4f35-be67-2575862ce956",
   "metadata": {},
   "outputs": [
    {
     "name": "stdin",
     "output_type": "stream",
     "text": [
      "Enter the number of rows:  5\n"
     ]
    },
    {
     "name": "stdout",
     "output_type": "stream",
     "text": [
      "* * * * *  \n",
      "* * * *  \n",
      "* * *  \n",
      "* *  \n",
      "*  \n",
      " \n"
     ]
    }
   ],
   "source": [
    "r = int(input(\"Enter the number of rows: \"))  \n",
    "  \n",
    "# the outer loop is executing in reversed order  \n",
    "for i in range(r + 1, 0, -1):    \n",
    "    for j in range(0, i - 1):  \n",
    "        print(\"*\", end=' ')  \n",
    "    print(\" \")  "
   ]
  },
  {
   "cell_type": "markdown",
   "id": "ac808d99-a25f-46ca-b996-9aa60ae51726",
   "metadata": {},
   "source": [
    "## QA 14. to Print Rectangle Star Pattern"
   ]
  },
  {
   "cell_type": "code",
   "execution_count": 57,
   "id": "d015b8b8-c038-4b55-8583-ec8110c4e060",
   "metadata": {},
   "outputs": [
    {
     "name": "stdin",
     "output_type": "stream",
     "text": [
      "Please Enter dimension of square  :  3\n"
     ]
    },
    {
     "name": "stdout",
     "output_type": "stream",
     "text": [
      "Star Rectangle  Pattern\n",
      "*  *  *  *  *  *  *  *  *  \n",
      "*  *  *  *  *  *  *  *  *  \n",
      "*  *  *  *  *  *  *  *  *  \n"
     ]
    }
   ],
   "source": [
    "rect = int(input(\"Please Enter dimension of square  : \"))\n",
    "\n",
    "print(\"Star Rectangle  Pattern\") \n",
    "\n",
    "for i in range(rect):\n",
    "    for i in range(rect):\n",
    "        for i in range(rect):\n",
    "            print('*', end = '  ')\n",
    "    print()"
   ]
  },
  {
   "cell_type": "code",
   "execution_count": null,
   "id": "eda389dc-7e6f-4deb-b243-a817de4d84ab",
   "metadata": {},
   "outputs": [],
   "source": []
  }
 ],
 "metadata": {
  "kernelspec": {
   "display_name": "Python 3 (ipykernel)",
   "language": "python",
   "name": "python3"
  },
  "language_info": {
   "codemirror_mode": {
    "name": "ipython",
    "version": 3
   },
   "file_extension": ".py",
   "mimetype": "text/x-python",
   "name": "python",
   "nbconvert_exporter": "python",
   "pygments_lexer": "ipython3",
   "version": "3.10.6"
  }
 },
 "nbformat": 4,
 "nbformat_minor": 5
}
